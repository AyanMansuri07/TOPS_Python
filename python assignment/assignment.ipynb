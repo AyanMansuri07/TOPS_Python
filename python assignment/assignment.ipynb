{
 "cells": [
  {
   "cell_type": "markdown",
   "id": "b8524065",
   "metadata": {},
   "source": [
    "# Introduction to Python "
   ]
  },
  {
   "cell_type": "code",
   "execution_count": null,
   "id": "fac6cbc0",
   "metadata": {},
   "outputs": [],
   "source": []
  },
  {
   "cell_type": "code",
   "execution_count": null,
   "id": "28530589",
   "metadata": {},
   "outputs": [],
   "source": [
    "\"\"\"1. Write a Python program that prints \"Hello, World!\". \"\"\"\n",
    "print(\"Hello, World!\")"
   ]
  },
  {
   "cell_type": "code",
   "execution_count": null,
   "id": "80e5d2d6",
   "metadata": {},
   "outputs": [
    {
     "data": {
      "text/plain": [
       "'Set up Python on your local machine and write a program to display your name.'"
      ]
     },
     "execution_count": 1,
     "metadata": {},
     "output_type": "execute_result"
    }
   ],
   "source": [
    "\"\"\"2.Set up Python on your local machine and write a program to display your name.\"\"\"\n",
    "# 1st step : download python from the website python.org\n",
    "# 2nd step : setup python into local machine\n",
    "# 3rd step : use any code editor for writing python code or program like vs code and download python extension and run it into vs code.\n",
    "# Ex. Print(“My Name is : Ayan Mansuri”)\n"
   ]
  },
  {
   "cell_type": "markdown",
   "id": "1a3016f2",
   "metadata": {},
   "source": [
    "# 2. Programming Style "
   ]
  },
  {
   "cell_type": "code",
   "execution_count": 3,
   "id": "fb30be02",
   "metadata": {},
   "outputs": [
    {
     "name": "stdout",
     "output_type": "stream",
     "text": [
      "1\n",
      "2\n",
      "3\n",
      "4\n",
      "5\n"
     ]
    }
   ],
   "source": [
    "\"\"\"3.Write a Python program that demonstrates the correct use of indentation, comments, and variables following PEP 8 guidelines.\"\"\"\n",
    "# this is first line comment \n",
    "for i in range(1,6):\n",
    "    print(i)"
   ]
  },
  {
   "cell_type": "markdown",
   "id": "0530f285",
   "metadata": {},
   "source": [
    "# 3. Core Python Concepts "
   ]
  },
  {
   "cell_type": "code",
   "execution_count": 4,
   "id": "bb02f860",
   "metadata": {},
   "outputs": [
    {
     "name": "stdout",
     "output_type": "stream",
     "text": [
      "<class 'str'>\n",
      "<class 'int'>\n",
      "<class 'float'>\n",
      "<class 'str'>\n",
      "Ayan Mansuri 21 89.2 A\n"
     ]
    }
   ],
   "source": [
    "\"\"\"4.\tWrite a Python program to demonstrate the creation of variables and different data types.\"\"\"\n",
    "Name = \"Ayan Mansuri\"\n",
    "Age = 21\n",
    "Marks = 89.2\n",
    "Grad = 'A'\n",
    "print(type(Name))\n",
    "print(type(Age))\n",
    "print(type(Marks))\n",
    "print(type(Grad))\n",
    "print(Name,Age,Marks,Grad)\n"
   ]
  },
  {
   "cell_type": "code",
   "execution_count": null,
   "id": "49c624ff",
   "metadata": {},
   "outputs": [
    {
     "data": {
      "text/plain": [
       "'5Practical Example 1: How does the Python code structure work?'"
      ]
     },
     "execution_count": 6,
     "metadata": {},
     "output_type": "execute_result"
    }
   ],
   "source": [
    "\"\"\"5.Practical Example 1: How does the Python code structure work?\"\"\"\n",
    "# python is a high level , dynamically typed programing language\n",
    "# python code is work and compiled line by line \n"
   ]
  },
  {
   "cell_type": "code",
   "execution_count": 7,
   "id": "a4d41277",
   "metadata": {},
   "outputs": [
    {
     "data": {
      "text/plain": [
       "'6.Practical Example 2: How to create variables in Python?'"
      ]
     },
     "execution_count": 7,
     "metadata": {},
     "output_type": "execute_result"
    }
   ],
   "source": [
    "\"\"\"6.Practical Example 2: How to create variables in Python?\"\"\"\n",
    "# When we want to create in python we just create a name of the python and then give its value ,we don’t need to specify the type of variables like int, float, double,etc.\n",
    "# Python automatically detect the type of the variable according to its value.\n",
    "# Ex.\n",
    "# \tName = “Ayan Mansuri” # here name is variable and “Ayan Mansuri “ is its value and type of variable is string\n",
    "# Age = 21 # same age is variable and 21 is its value and type of variable is int.\n"
   ]
  },
  {
   "cell_type": "code",
   "execution_count": 8,
   "id": "174ba511",
   "metadata": {},
   "outputs": [
    {
     "name": "stdout",
     "output_type": "stream",
     "text": [
      "Ayan Mansuri\n"
     ]
    }
   ],
   "source": [
    "\"\"\"7.Practical Example 3: How to take user input using the input() function.\"\"\"\n",
    "# input() : using of inpur function we can access dynamic value undrscore\n",
    "#     syantax :-\n",
    "#         input(\"promt message\" )\n",
    "Name = input(\"Eneter your name : \")\n",
    "print(Name)\n"
   ]
  },
  {
   "cell_type": "code",
   "execution_count": 9,
   "id": "ea99f154",
   "metadata": {},
   "outputs": [
    {
     "name": "stdout",
     "output_type": "stream",
     "text": [
      "<class 'str'>\n",
      "<class 'int'>\n",
      "<class 'float'>\n",
      "<class 'str'>\n"
     ]
    }
   ],
   "source": [
    "\"\"\"8.Practical Example 4: How to check the type of a variable dynamically using type().\"\"\"\n",
    "Name = \"Ayan Mansuri\"\n",
    "Age = 21\n",
    "Marks = 89.2\n",
    "Grad = \"A\"\n",
    "print(type(Name))\n",
    "print(type(Age))\n",
    "print(type(Marks))\n",
    "print(type(Grad))\n"
   ]
  },
  {
   "cell_type": "markdown",
   "id": "d612a938",
   "metadata": {},
   "source": [
    "# 4. Conditional Statements "
   ]
  },
  {
   "cell_type": "code",
   "execution_count": null,
   "id": "0a479127",
   "metadata": {},
   "outputs": [
    {
     "name": "stdout",
     "output_type": "stream",
     "text": [
      "65 number is grater than number  55\n"
     ]
    }
   ],
   "source": [
    "\"\"\"9.Practical Example 5: Write a Python program to find greater and less than a number using \n",
    "if_else. \"\"\"\n",
    "num1 = int(input(\"Enter the number 1 : \"))\n",
    "num2 = int(input(\"Enter the number 2 : \"))\n",
    "if num1>num2 :\n",
    "    print(num1,\"number is grater than number \",num2)\n",
    "else:\n",
    "    print(num2,\"number is grater than number \",num1)\n",
    "    "
   ]
  },
  {
   "cell_type": "code",
   "execution_count": 10,
   "id": "6c865722",
   "metadata": {},
   "outputs": [
    {
     "name": "stdout",
     "output_type": "stream",
     "text": [
      "prime number\n"
     ]
    }
   ],
   "source": [
    "\"\"\"10. Practical Example 6: Write a Python program to check if a number is prime using \tif_else. \"\"\"\n",
    "num=int(input(\"Enter number: \"))\n",
    "flag =0\n",
    "for i in range(2,num):\n",
    "    if num % i==0:\n",
    "        flag =1\n",
    "    \n",
    "if flag==0:\n",
    "    print(\"prime number\")\n",
    "else:\n",
    "    print(\"not prime number\")\n",
    "\n"
   ]
  },
  {
   "cell_type": "code",
   "execution_count": 12,
   "id": "e0623dfd",
   "metadata": {},
   "outputs": [
    {
     "name": "stdout",
     "output_type": "stream",
     "text": [
      "B Grad\n"
     ]
    }
   ],
   "source": [
    "\"\"\"11.Practical Example 7: Write a Python program to calculate grades based on percentage using \n",
    "if-else ladder. \"\"\"\n",
    "per= float(input(\"enter the percentage : \"))\n",
    "if per>=80:\n",
    "    print(\"A Grad\")\n",
    "elif per>=70 and per<80:\n",
    "    print(\"B Grad\")\n",
    "else :\n",
    "    print(\"fail\")"
   ]
  },
  {
   "cell_type": "code",
   "execution_count": 13,
   "id": "d256a441",
   "metadata": {},
   "outputs": [
    {
     "name": "stdout",
     "output_type": "stream",
     "text": [
      "You are eligible to donate blood.\n"
     ]
    }
   ],
   "source": [
    "\"\"\"12.Practical Example 8: Write a Python program to check if a person is eligible to donate blood \n",
    "using a nested if.\"\"\"\n",
    "\n",
    "\n",
    "weight = float(input(\"Enter your weight in kg: \"))\n",
    "\n",
    "if Age >= 18:\n",
    "    if weight >= 50:\n",
    "        print(\"You are eligible to donate blood.\")\n",
    "    else:\n",
    "        print(\"You are not eligible to donate blood due to insufficient weight.\")\n",
    "else:\n",
    "    print(\"You are not eligible to donate blood due to age.\")\n"
   ]
  },
  {
   "cell_type": "code",
   "execution_count": 14,
   "id": "b280cb19",
   "metadata": {},
   "outputs": [
    {
     "name": "stdout",
     "output_type": "stream",
     "text": [
      "apple\n",
      "banana\n",
      "mango\n"
     ]
    }
   ],
   "source": [
    "\"\"\"13.Practical Example 1: Write a Python program to print each fruit in a list using a simple for \n",
    "loop. List1 = ['apple', 'banana', 'mango'] \"\"\"\n",
    "List1 = ['apple', 'banana', 'mango']\n",
    "for fruit in List1:\n",
    "    print(fruit)"
   ]
  },
  {
   "cell_type": "code",
   "execution_count": 16,
   "id": "dd3e1fc2",
   "metadata": {},
   "outputs": [
    {
     "name": "stdout",
     "output_type": "stream",
     "text": [
      "The length of 'apple' is 5\n",
      "The length of 'banana' is 6\n",
      "The length of 'mango' is 5\n",
      "The length of 'orange' is 6\n"
     ]
    }
   ],
   "source": [
    "\"\"\"14.Practical Example 2: Write a Python program to find the length of each string in List1. \"\"\"\n",
    "List1 = ['apple', 'banana', 'mango','orange']\n",
    "for fruit in List1:\n",
    "    print(f\"The length of '{fruit}' is {len(fruit)}\")"
   ]
  },
  {
   "cell_type": "code",
   "execution_count": 19,
   "id": "c75a3990",
   "metadata": {},
   "outputs": [
    {
     "name": "stdout",
     "output_type": "stream",
     "text": [
      "' mango ' found in the list.\n"
     ]
    }
   ],
   "source": [
    "\"\"\"15.Practical Example 3: Write a Python program to find a specific string in the list using a simple \n",
    "for loop and if condition.\"\"\"\n",
    "List1 = ['apple', 'banana', 'mango','orange']\n",
    "search_str = \"mango\"\n",
    "found = False\n",
    "for item in List1:\n",
    "    if item == search_str:\n",
    "        print(\"'\",search_str,\"' found in the list.\")\n",
    "        found = True\n",
    "        break\n",
    "if not found:\n",
    "    print(\"'\" + search_str + \"' not found in the list.\")"
   ]
  },
  {
   "cell_type": "code",
   "execution_count": 22,
   "id": "9fe63bd2",
   "metadata": {},
   "outputs": [
    {
     "name": "stdout",
     "output_type": "stream",
     "text": [
      " *\n",
      " * *\n",
      " * * *\n",
      " * * * *\n",
      " * * * * *\n",
      " * * * * * *\n"
     ]
    }
   ],
   "source": [
    "\"\"\"16.\n",
    "* \n",
    "** \n",
    "*** \n",
    "**** \n",
    "***** \"\"\"\n",
    "for i in range(1,7):\n",
    "    for j in range(1,i+1):\n",
    "        print(\" *\",end=\"\")\n",
    "    print()"
   ]
  },
  {
   "cell_type": "markdown",
   "id": "9e053beb",
   "metadata": {},
   "source": [
    "# 8. Control Statements (Break, Continue, Pass) "
   ]
  },
  {
   "cell_type": "code",
   "execution_count": 28,
   "id": "4fd3faa1",
   "metadata": {},
   "outputs": [
    {
     "name": "stdout",
     "output_type": "stream",
     "text": [
      "apple\n",
      "mango\n",
      "orange\n"
     ]
    }
   ],
   "source": [
    "\"\"\"17.Practical Example: 1) Write a Python program to skip 'banana' in a list using the continue \"\"\"\n",
    "List1 = ['apple', 'banana', 'mango','orange']\n",
    "\n",
    "for fruit in List1: \n",
    "    if fruit == 'banana':continue\n",
    "    print(fruit)\n"
   ]
  },
  {
   "cell_type": "code",
   "execution_count": 30,
   "id": "797ce5f4",
   "metadata": {},
   "outputs": [
    {
     "name": "stdout",
     "output_type": "stream",
     "text": [
      "apple\n",
      "'banana' found, stopping the loop.\n"
     ]
    }
   ],
   "source": [
    "\"\"\"18.Practical Example: 2) Write a Python program to stop the loop once 'banana' is found using \n",
    "the break statement. \"\"\"\n",
    "List1 = ['apple', 'banana', 'mango','orange']\n",
    "\n",
    "for fruit in List1:\n",
    "    if fruit == 'banana':\n",
    "        print(\"'banana' found, stopping the loop.\")\n",
    "        break\n",
    "    print(fruit)"
   ]
  },
  {
   "cell_type": "markdown",
   "id": "def32d6f",
   "metadata": {},
   "source": [
    "# 9. String Manipulation "
   ]
  },
  {
   "cell_type": "code",
   "execution_count": null,
   "id": "1ad93346",
   "metadata": {},
   "outputs": [
    {
     "name": "stdout",
     "output_type": "stream",
     "text": [
      "Original string: Ayan Mansuri\n",
      "First 4 characters: Ayan\n",
      "Characters from index 5 to end: Mansuri\n",
      "Last 3 characters: uri\n",
      "Every second character: Aa asr\n"
     ]
    }
   ],
   "source": [
    "\"\"\"19.Write a Python program to demonstrate string slicing. \"\"\"\n",
    "Name = \"Ayan Mansuri\"\n",
    "print(\"Original string:\", Name)\n",
    "print(\"First 4 characters:\", Name[:4])\n",
    "print(\"Characters from index 5 to end:\", Name[5:])\n",
    "print(\"Last 3 characters:\", Name[-3:])\n",
    "print(\"Every second character:\", Name[::2])\n"
   ]
  },
  {
   "cell_type": "code",
   "execution_count": null,
   "id": "d66790aa",
   "metadata": {},
   "outputs": [
    {
     "name": "stdout",
     "output_type": "stream",
     "text": [
      "Uppercase: AYAN MANSURI\n",
      "Lowercase: ayan mansuri\n",
      "Title case: Ayan Mansuri\n",
      "Replace 'Ayan' with 'Mr.': Mr. Mansuri\n",
      "Does the string start with 'Ayan'? : True\n",
      "Does the string end with 'i'? : True\n",
      "Count of 'a': 2\n",
      "Index of 'Mansuri': 5\n",
      "Split by space: ['Ayan', 'Mansuri']\n"
     ]
    }
   ],
   "source": [
    "\"\"\"20.Write a Python program that manipulates and prints strings using various string methods. \"\"\"\n",
    "Name = \"Ayan Mansuri\"\n",
    "print(\"Uppercase:\", Name.upper())\n",
    "print(\"Lowercase:\", Name.lower())\n",
    "print(\"Title case:\", Name.title())\n",
    "print(\"Replace 'Ayan' with 'Mr.':\", Name.replace(\"Ayan\", \"Mr.\"))\n",
    "print(\"Does the string start with 'Ayan'? :\", Name.startswith(\"Ayan\"))\n",
    "print(\"Does the string end with 'i'? :\", Name.endswith(\"i\"))\n",
    "print(\"Index of 'Mansuri':\", Name.find(\"Mansuri\"))\n",
    "print(\"Split by space:\", Name.split())"
   ]
  },
  {
   "cell_type": "code",
   "execution_count": null,
   "id": "03f0baba",
   "metadata": {},
   "outputs": [
    {
     "name": "stdout",
     "output_type": "stream",
     "text": [
      "2\n",
      "15\n"
     ]
    }
   ],
   "source": []
  },
  {
   "cell_type": "code",
   "execution_count": null,
   "id": "6ef11ef8",
   "metadata": {},
   "outputs": [],
   "source": []
  }
 ],
 "metadata": {
  "kernelspec": {
   "display_name": "Python 3",
   "language": "python",
   "name": "python3"
  },
  "language_info": {
   "codemirror_mode": {
    "name": "ipython",
    "version": 3
   },
   "file_extension": ".py",
   "mimetype": "text/x-python",
   "name": "python",
   "nbconvert_exporter": "python",
   "pygments_lexer": "ipython3",
   "version": "3.12.3"
  }
 },
 "nbformat": 4,
 "nbformat_minor": 5
}
